{
 "cells": [
  {
   "cell_type": "code",
   "execution_count": 3,
   "id": "486fb295-5605-4d29-a492-a9e37b2ad017",
   "metadata": {},
   "outputs": [],
   "source": [
    "import pandas as pd\n",
    "from sklearn.model_selection import train_test_split\n",
    "from sklearn.preprocessing import StandardScaler, OneHotEncoder\n",
    "from sklearn.compose import ColumnTransformer\n",
    "from keras.models import Sequential\n",
    "from keras.layers import Dense, Dropout\n",
    "from sklearn.metrics import confusion_matrix"
   ]
  },
  {
   "cell_type": "code",
   "execution_count": 4,
   "id": "0b2061c4-2f6b-449e-bd8e-53410f3fb9e6",
   "metadata": {},
   "outputs": [],
   "source": [
    "# Load the dataset\n",
    "dataset = pd.read_csv('Churn_Modelling.csv')\n",
    "X = dataset.iloc[:, 3:13].values  # Select features (excluding CustomerID and Surname)\n",
    "Y = dataset.iloc[:, 13].values     # Select target"
   ]
  },
  {
   "cell_type": "code",
   "execution_count": 5,
   "id": "80c1fa0f-3ba8-44de-b0eb-dadb2760e094",
   "metadata": {},
   "outputs": [],
   "source": [
    "# Preprocess the data (One-hot encode categorical features)\n",
    "preprocessor = ColumnTransformer(\n",
    "    transformers=[\n",
    "        ('geo', OneHotEncoder(drop='first'), [1]),  # Geography\n",
    "        ('gender', OneHotEncoder(drop='first'), [2]) # Gender\n",
    "    ],\n",
    "    remainder='passthrough'\n",
    ")"
   ]
  },
  {
   "cell_type": "code",
   "execution_count": 6,
   "id": "3190d61e-41a1-4abe-a4e7-0407d8293ae2",
   "metadata": {},
   "outputs": [],
   "source": [
    "X = preprocessor.fit_transform(X)\n",
    "X = StandardScaler().fit_transform(X)  # Standardize features"
   ]
  },
  {
   "cell_type": "code",
   "execution_count": 7,
   "id": "3d184915-596c-46be-a510-05b619d630da",
   "metadata": {},
   "outputs": [],
   "source": [
    "# Split the data into training and testing sets\n",
    "X_train, X_test, y_train, y_test = train_test_split(X, Y, test_size=0.2, random_state=0)"
   ]
  },
  {
   "cell_type": "code",
   "execution_count": 8,
   "id": "fa1bb34c-6e6f-4058-b114-2f6ffd3e16d7",
   "metadata": {},
   "outputs": [
    {
     "name": "stderr",
     "output_type": "stream",
     "text": [
      "C:\\Users\\cratn\\AppData\\Local\\Packages\\PythonSoftwareFoundation.Python.3.12_qbz5n2kfra8p0\\LocalCache\\local-packages\\Python312\\site-packages\\keras\\src\\layers\\core\\dense.py:87: UserWarning: Do not pass an `input_shape`/`input_dim` argument to a layer. When using Sequential models, prefer using an `Input(shape)` object as the first layer in the model instead.\n",
      "  super().__init__(activity_regularizer=activity_regularizer, **kwargs)\n"
     ]
    }
   ],
   "source": [
    "\n",
    "# Build the Neural Network\n",
    "model = Sequential()\n",
    "model.add(Dense(6, activation='relu', input_shape=(X_train.shape[1],)))\n",
    "model.add(Dropout(0.1))  # Dropout layer\n",
    "model.add(Dense(6, activation='relu'))\n",
    "model.add(Dropout(0.1))\n",
    "model.add(Dense(1, activation='sigmoid'))  # Output layer"
   ]
  },
  {
   "cell_type": "code",
   "execution_count": 9,
   "id": "88284e69-3c94-4b04-b134-9af6a97527b6",
   "metadata": {},
   "outputs": [
    {
     "data": {
      "text/plain": [
       "<keras.src.callbacks.history.History at 0x2559cdc4da0>"
      ]
     },
     "execution_count": 9,
     "metadata": {},
     "output_type": "execute_result"
    }
   ],
   "source": [
    "# Compile and train the model\n",
    "model.compile(optimizer='adam', loss='binary_crossentropy', metrics=['accuracy'])\n",
    "model.fit(X_train, y_train, batch_size=32, epochs=100, validation_split=0.1, verbose=0)"
   ]
  },
  {
   "cell_type": "code",
   "execution_count": 10,
   "id": "af82e74a-7efe-47d7-8c98-fa13f658c7cd",
   "metadata": {},
   "outputs": [
    {
     "name": "stdout",
     "output_type": "stream",
     "text": [
      "\u001b[1m63/63\u001b[0m \u001b[32m━━━━━━━━━━━━━━━━━━━━\u001b[0m\u001b[37m\u001b[0m \u001b[1m0s\u001b[0m 2ms/step\n"
     ]
    }
   ],
   "source": [
    "# Make predictions and evaluate the model\n",
    "y_pred = (model.predict(X_test) > 0.5).astype(int)\n",
    "cm = confusion_matrix(y_test, y_pred)"
   ]
  },
  {
   "cell_type": "code",
   "execution_count": 11,
   "id": "48523dd6-07d7-41be-a9e2-1e60f4143476",
   "metadata": {},
   "outputs": [
    {
     "name": "stdout",
     "output_type": "stream",
     "text": [
      "Confusion Matrix:\n",
      " [[1539   56]\n",
      " [ 213  192]]\n",
      "Accuracy: 86.55%\n"
     ]
    }
   ],
   "source": [
    "# Print the confusion matrix and accuracy\n",
    "print(\"Confusion Matrix:\\n\", cm)\n",
    "accuracy = (cm[0][0] + cm[1][1]) / len(y_test) * 100\n",
    "print(f\"Accuracy: {accuracy:.2f}%\")"
   ]
  }
 ],
 "metadata": {
  "kernelspec": {
   "display_name": "Python 3 (ipykernel)",
   "language": "python",
   "name": "python3"
  },
  "language_info": {
   "codemirror_mode": {
    "name": "ipython",
    "version": 3
   },
   "file_extension": ".py",
   "mimetype": "text/x-python",
   "name": "python",
   "nbconvert_exporter": "python",
   "pygments_lexer": "ipython3",
   "version": "3.12.7"
  }
 },
 "nbformat": 4,
 "nbformat_minor": 5
}
